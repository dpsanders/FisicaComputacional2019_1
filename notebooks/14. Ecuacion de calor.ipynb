{
 "cells": [
  {
   "cell_type": "markdown",
   "metadata": {},
   "source": [
    "# Ecuaciones parciales diferenciales de evolución"
   ]
  },
  {
   "cell_type": "markdown",
   "metadata": {},
   "source": [
    "Las ecuaciones diferenciales parciales (EDPs) constituyen un área de suma importancia en la física, ya que modelan sistemas que varían con respecto a varias variables *in*dependientes, por ejemplo, tanto el tiempo como el espacio.\n",
    "\n",
    "Del punto de vista numérico, se puede decir que el tipo de EDPs que es más sencillo conceptualmente son las llamadas **parabólicas**, es decir, **ecuaciones de evolución**, de las cuales la más conocida es la **ecuación de calor** o **ecuación de difusión**."
   ]
  },
  {
   "cell_type": "markdown",
   "metadata": {},
   "source": [
    "# La ecuación de calor"
   ]
  },
  {
   "cell_type": "markdown",
   "metadata": {},
   "source": [
    "La ecuación de calor modela el esparcimiento en el tiempo y en el espacio de un \"paquete\" de calor (perturbación local de temperatura en una región), o de concentración de una sustancia física o química, en cuyo caso se llama la **ecuación de difusión**. \n",
    "\n",
    "Llamemos $u(t, \\mathbf{x})$ la perturbación de la temperatura o la concentración de la sustancia en la posición $\\mathbf{x}$ al tiempo $t$. La ecuación de calor es\n",
    "\n",
    "$$\\frac{\\partial u(t, \\mathbf{x})}{\\partial t} = D \\, \\nabla^2 u(t, \\mathbf{x}).$$\n",
    "\n",
    "[Recordemos que $\\nabla^2 := \\frac{\\partial^2}{\\partial x^2} + \\frac{\\partial^2}{\\partial y^2} + \\frac{\\partial^2}{\\partial z^2}$ en tres dimensiones.]\n",
    "\n",
    "Esta ecuación nos dice cómo varía la concentración en el tiempo, dadas las condiciones locales en el espacio. Se deriva a partir una ley de conservación que dice que la concentración de sustancia no se destruye, ni se construye, sino sólo fluye en el espacio. Al imponer esto en una caja chiquita y tomar el límite cuando el tamaño de la caja tiende a cero, obtenemos que\n",
    "\n",
    "$$\\frac{\\partial u}{\\partial t} + \\nabla \\cdot \\mathbf{J} = 0.$$\n",
    "\n",
    "Además, podemos suponer (al menos, en una primera aproximación) que el flujo de calor o de concentración $\\mathbf{J}$ es proporcional a la gradiente local:\n",
    "\n",
    "$$\\mathbf{J} = -D \\, \\nabla u.$$\n",
    "\n",
    "Sustituyendo esta relación en la anterior, obtenemos la ecuación de calor.\n",
    "\n",
    "La ecuación de calor es una **ecuación de evolución**; es decir, describe cómo evoluciona el sistema en el tiempo (y en el espacio). Por lo tanto, su tratamiento se sigue de forma bastante directa de lo que hemos visto para EDOs."
   ]
  },
  {
   "cell_type": "markdown",
   "metadata": {},
   "source": [
    "## Una dimensión\n",
    "\n",
    "Empecemos con el caso más sencillo, con sólo una dimensión espacial. En este caso, la ecuación de calor se reduce a\n",
    "\n",
    "\n",
    "$$\\frac{\\partial u}{\\partial t} = D \\frac{\\partial^2 u}{\\partial x^2}.$$\n",
    "\n",
    "Nota que aquí, las derivadas $\\frac{\\partial u}{\\partial t}$ son ellas mismas *funciones del tiempo y de la posición*. De forma análoga a las EDOs, esta ecuación quiere decir que \n",
    "\n",
    "$$\\frac{\\partial u}{\\partial t}(t, x) = D \\frac{\\partial^2 u}{\\partial x^2}(t, x),$$\n",
    "\n",
    "para todas las $t \\in [t_0, t_f]$ y todas las $x$ en un rango dado (que puede ser infinito).\n",
    "\n",
    "Para resolver esta EDP, necesitaremos una condición inicial funcional, $u(t=0, x) = f(x)$ (una función del espacio), así como condiciones en la frontera $u(t, x)$ para todos los valores de $x$ que se encuentren en la frontera del dominio espacial, y para todo $t$."
   ]
  },
  {
   "cell_type": "markdown",
   "metadata": {},
   "source": [
    "# Métodos numéricos para la ecuación de calor"
   ]
  },
  {
   "cell_type": "markdown",
   "metadata": {},
   "source": [
    "Dado que, como siempre, no podemos resolver problemas de naturaleza continua en la computadora, debemos *aproximar* la solución $u(t, x)$ de alguna forma a través de una **discretización**. Hay distintas formas de llevar a cabo la discretización; aquí, escogeremos el más sencillo."
   ]
  },
  {
   "cell_type": "markdown",
   "metadata": {},
   "source": [
    "#### Ejercicio 1\n",
    "\n",
    "(i) Pensando en tu experiencia con las ecuaciones diferenciales ordinarias, ¿cómo se puede discretizar $u(t, x)$, utilizando un tamaño de paso $h$ en el tiempo y $k$ en el espacio? Toma el intervalo $[-L, L]$ como los valores posibles de $x$, así como tiempos en el rango $[t_0, t_f]$.\n",
    "\n",
    "Denotemos con $t_n$ el tiempo al paso número $n$, y con $u^n_i$ la aproximación de la solución en el nodo número $i$ en el espacio al tiempo $n$.\n",
    "\n",
    "(ii) ¿Cómo se puede discretizar la ecuación de calor unidimensional? \n",
    "\n",
    "(iii) Reescribe la discretización para dar $u^{n+1}_i$ en términos de distintos $u^n_j$s al tiempo anterior."
   ]
  },
  {
   "cell_type": "code",
   "execution_count": null,
   "metadata": {},
   "outputs": [],
   "source": []
  },
  {
   "cell_type": "markdown",
   "metadata": {},
   "source": [
    "#### Ejercicio 2\n",
    "\n",
    "Considera la ecuación de calor en una dimensión sobre el intervalo de $x=-L$ a $x=L$, con condición inicial $u(t=0, x) = \\delta(x)$, donde $\\delta$ es la delta de Dirac, y condiciones de frontera absorbentes (de Dirichlet), es decir, $u(t, x=-L) = u(t, x=L) = 0$ para $t > 0$.\n",
    "\n",
    "(i) ¿Qué esperas intuitivamente que pase durante la evolución? ¿Qué pasará para tiempos largos?\n",
    "\n",
    "(ii) Escribe la solución analítica exacta para $u(x, t)$ en el caso cuando $L = \\infty$ (es decir, cuando \"no hay fronteras\" y la difusión ocurre en toda la recta real). [No es necesario que *derives* la solución, sólo que la anotes.]\n",
    "\n",
    "(iii) Dibuja la solución analítica como función del tiempo."
   ]
  },
  {
   "cell_type": "code",
   "execution_count": null,
   "metadata": {},
   "outputs": [],
   "source": []
  },
  {
   "cell_type": "markdown",
   "metadata": {},
   "source": [
    "#### Ejercicio 3\n",
    "\n",
    "(i) Para resolver la ecuación de calor en la computadora, debemos saber cómo discretizar la $\\delta$ de Dirac; recuerda que es es un bicho raro, ya que *no es una función*. [De hecho, la delta de Dirac es un ejemplo de lo que se llama una **distribución** o [**función generalizada**](https://en.wikipedia.org/wiki/Generalized_function).]\n",
    "\n",
    "Pensando que (la parte no-cero de) la delta de Dirac se localiza en una celda de la discretización con ancho $h$, ¿cómo podemos representar la condición inicial para que *tenga la misma área* que $\\delta(x)$? [Pista: ¿Cuál es el \"área\" debajo de la delta de Dirac? ¿Cómo podemos darle la misma área a nuestra condición inicial si consideramos que aproximamos la delta con una función constante en una caja?]\n",
    "\n",
    "(ii) Implementa el sistema, tomando cuidado en lo que ocurre en las fronteras. Para hacerlo, puedes utilizar un vector para representar el estado actual del sistema, y otro vector para el estado al tiempo siguiente. [Nota que deberás tomar en cuenta el punto tocado en el Ejercicio 4: puede que tu método numérico explota; en ese caso; reduce la $h$ hasta que ya no explote.]\n",
    "\n",
    "(iii) Dibuja la evolución en el tiempo, por ejemplo usando `Interact`. ¿Ocurre lo que esperabas? Dibuja en la misma gráfica la solución analítica exacta para $L = \\infty$. ¿Qué observas?\n",
    "\n",
    "(iv) También dibuja la evolución como un \"heat map\" (mapa de calor), es decir, dibuja la matriz dos-dimensional $u^n_i$ con colores que representan los valores de cada elemento de la matriz. [Pista: Utiliza la función `heatmap` de `Plots.jl`.]\n",
    "\n",
    "(v) ¿Qué ocurre si tomas otra condición inicial, por ejemplo una suma de dos deltas? Compáralo con el caso anterior.\n",
    "\n",
    "(vi) Pensando en la ecuación como la ecuación de difusión, ¿cuál cantidad relacionada con $u$ representa la cantidad total de masa? ¿Qué debería satisfacer esta cantidad durante la evolución para un sistema infinito? ¿Qué ocurre con esta cantidad cuando hay condiciones de frontera de Dirichlet? Demuéstralo numéricamente."
   ]
  },
  {
   "cell_type": "code",
   "execution_count": null,
   "metadata": {},
   "outputs": [],
   "source": []
  },
  {
   "cell_type": "markdown",
   "metadata": {},
   "source": [
    "#### Ejercicio 4\n",
    "\n",
    "(i) Los parámetros $h$ y $k$ de la discretización en el tiempo y en el espacio, respectivamente, ocurren en una cierta combinación adimensional en la ecuación discretizada que obtuviste. ¿Cuál es?  \n",
    "\n",
    "(ii) Resulta que el método numérico es estable para ciertos valores de este parámetro adimensional, e inestable para otros. Encuentra numéricamente el valor crítico de este parámetro, debajo del cual el método es estable y arriba del cual es inestable."
   ]
  },
  {
   "cell_type": "code",
   "execution_count": null,
   "metadata": {},
   "outputs": [],
   "source": []
  },
  {
   "cell_type": "markdown",
   "metadata": {},
   "source": [
    "#### Ejercicio 5\n",
    "\n",
    "Considera la ecuación de difusión unidimensional, pero ahora con condiciones de frontera **reflejantes** (de Neumann).\n",
    "\n",
    "(i) Escribe la ecuación correspondiente a las condiciones de frontera en $x=\\pm L$.\n",
    "\n",
    "(ii) ¿Cómo se puede discretizar en términos de la misma discretización que antes?\n",
    "\n",
    "(iii) ¿Qué esperas intuitivamente que ocurre con este tipo de ecuaciones de frontera?\n",
    "\n",
    "(iv) Impleméntalo y grafica la evolución temporal.\n",
    "\n",
    "(v) Confirma la ley de conservación en este caso."
   ]
  },
  {
   "cell_type": "code",
   "execution_count": null,
   "metadata": {},
   "outputs": [],
   "source": []
  },
  {
   "cell_type": "markdown",
   "metadata": {},
   "source": [
    "#### Ejercicio 6\n",
    "\n",
    "Considera un sistema con condiciones **periódicas**, es decir, \n",
    "sobre un círculo, en el cual $u(x=0) = u(x=L)$ para toda $t$. \n",
    "\n",
    "Numéricamente, esto quiere decir que la vecina izquierda de la celda número 1 es la celda número $L$, y vice versa.\n",
    "Esto se puede implementar con un `if` o un `%`, o bien haciendo \"celdas fantasmas\" adicionales, a las cuales se copia la información correspondiente en cada paso.\n",
    "\n",
    "(i) ¿Qué esperas intuitivamente ver con estas condiciones de frontera?\n",
    "\n",
    "(ii) Impleméntalo, tal que puedas escoger qué tipo de condiciones de frontera quieras según un argumento a la función.\n",
    "\n",
    "(iii) ¿Se tiene una ley de conservación en este caso? Demúestralo numéricamente."
   ]
  },
  {
   "cell_type": "code",
   "execution_count": null,
   "metadata": {},
   "outputs": [],
   "source": []
  },
  {
   "cell_type": "markdown",
   "metadata": {},
   "source": [
    "#### Ejercicio 7\n",
    "\n",
    "Regresemos a la ecuación de calor original y pensemos *únicamente* en la parte de la evolución temporal.\n",
    "\n",
    "(i) ¿A qué método numérico para EDOs corresponde lo que ya implementaste?\n",
    "\n",
    "(ii) Ahora, discretiza *sólo* la derivada espacial de la ecuación de calor, dejando *sin* discretizarse la derivada temporal. El resultado se llama una **semi-discretización** de la ecuación. ¿Qué forma tienen las ecuaciones resultantes?\n",
    "\n",
    "(iii) Así, especifica cuáles otros métodos numéricos podrías aplicar.\n",
    "\n",
    "(iv) Impleméntalo."
   ]
  },
  {
   "cell_type": "code",
   "execution_count": null,
   "metadata": {},
   "outputs": [],
   "source": []
  }
 ],
 "metadata": {
  "kernelspec": {
   "display_name": "Julia 1.0.0",
   "language": "julia",
   "name": "julia-1.0"
  },
  "language_info": {
   "file_extension": ".jl",
   "mimetype": "application/julia",
   "name": "julia",
   "version": "1.0.1"
  }
 },
 "nbformat": 4,
 "nbformat_minor": 1
}
