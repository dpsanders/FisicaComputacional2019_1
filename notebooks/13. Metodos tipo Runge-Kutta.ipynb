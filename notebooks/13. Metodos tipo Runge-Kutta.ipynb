{
 "cells": [
  {
   "cell_type": "markdown",
   "metadata": {},
   "source": [
    "# Métodos tipo Runge-Kutta para EDOs"
   ]
  },
  {
   "cell_type": "markdown",
   "metadata": {},
   "source": [
    "Consideremos la EDO\n",
    "\n",
    "$$\\dot{x}(t) = f(x(t), t) \\qquad (1).$$\n",
    "\n",
    "Queremos desarrollor métodos numéricos que aproximen mejor la solución exacta que el método de Euler, es decir, para los cuales el tamaño del error sea menor, de orden $h^n$ con $n$ más grande."
   ]
  },
  {
   "cell_type": "markdown",
   "metadata": {},
   "source": [
    "#### Ejercicio 1\n",
    "\n",
    "Como hemos visto con el método de Euler, dada una aproximación para la solución $x(t_0)$ en el tiempo $t_0$, queremos encontrar una aproximación para la solución $x(t_0 + h)$ en el siguiente paso.\n",
    "\n",
    "(i) Desarrolla $x(t_0 + h)$ en una serie de Taylor, incluyendo explícitamente los términos hasta segundo orden. Para calcular $\\ddot{x}$, deriva la ecuación (1) con respecto a $t$. Nota que $f$ es una **función de dos variables**.\n",
    "\n",
    "(ii) ¿A qué corresponde el método de Euler?"
   ]
  },
  {
   "cell_type": "code",
   "execution_count": null,
   "metadata": {},
   "outputs": [],
   "source": []
  },
  {
   "cell_type": "markdown",
   "metadata": {},
   "source": [
    "Es posible derivar métodos (llamados **métodos de Taylor**) que calculen explícitamente las derivadas de $f$, utilizando técnicas de **diferenciación algorítmica** (también llamado \"diferenciación automática).\n",
    "\n",
    "En lugar de esto, estudiaremos los llamados **métodos de Runge-Kutta** (RK), los cuales utilizan una idea diferente: \n",
    "\n",
    "evalúan $f$ varias veces, posiblemente en distintos lugares, y toman una combinación lineal de estas evaluaciones para reproducir la expansión de Taylor a diferentes órdenes.\n",
    "\n",
    "Veremos un par de métodos de Runge-Kutta **explícitos**, es decir, en los cuales no es necesario de resolver una ecuación no-lineal, lo cual corresponde a un método **implícito** (por ejemplo, el método de Euler hacia atrás)."
   ]
  },
  {
   "cell_type": "markdown",
   "metadata": {},
   "source": [
    "#### Ejercicio 2\n",
    "\n",
    "Para entender la idea de los métodos RK, regresemos al método de Euler hacia atrás. Si $t_n$ son los nodos en donde aproximamos la solución, y $x_n$ los valores aproximados, entonces tenemos lo siguiente (que obtenemos al aproximar la integral):\n",
    "\n",
    "$$x_{n+1} = x_n + \\frac{h}{2} \\left[ f(x_n, t_n) + f(x_{n+1}, t_{n+1}) \\right] \\qquad (2).$$\n",
    "\n",
    "Para convertir esta ecuación implícita en un método Runge-Kutta, tomemos una *aproximación* de $f(x_{n+1})$, al utilizar... ¡un *paso de Euler*! En general, los métodos de Runge-Kutta incorporan varios pasos de Euler, que pueden ser de distintos tamaños.\n",
    "\n",
    "(i) Escribe la ecuación de un paso de Euler para $x_{n+1}$ en términos de $x_n$.\n",
    "\n",
    "(ii) Inserte ese paso de Euler en la ecuación (2). Expande en potencias de $h$ hasta segundo orden. Demuestra que recupera la expansión de Taylor de $x(t_n+h)$ a segundo orden. Este método se llama el **método de Euler modificado**.\n",
    "\n",
    "(iii) Una alternativa es el tomar un paso de Euler en todo el intervalo de tamaño $h$, pero utilizando una mejor aproximación de la derivada en el intervalo. Para hacerlo, se toma un primer paso de Euler hasta la *mitad* del camino entre $t_n$ y $t_{n+1}$, es decir una \"distancia\" $h/2$ en el tiempo, y se evalúa ahí $f(x(t+h/2), t+h/2)$. Este valor luego se utiliza como la aproximación de $\\dot{x}$ sobre el intervalo en otro paso de Euler. Este método se llama el **método del punto medio**.\n",
    "\n",
    "Demuestra que también recupera la expansión de Taylor de $x(t_n+h)$ a segundo orden.\n",
    "\n",
    "(iv) Implementa funciones para pasos individuales de estos dos métodos, para una EDO  escalar (es decir, para una sola variable dependiente).\n",
    "\n",
    "(v) Implementa funciones para pasos individuales de estos dos métodos, de forma vectorial."
   ]
  },
  {
   "cell_type": "code",
   "execution_count": null,
   "metadata": {},
   "outputs": [],
   "source": []
  },
  {
   "cell_type": "markdown",
   "metadata": {},
   "source": [
    "#### Ejercicio 3\n",
    "\n",
    "Para poder comparar distintos métodos, es útil contar con un integrador de EDOs general, con el cual podemos escoger cuál método utilizar en cada paso.\n",
    "\n",
    "(i) Escribe una función `integrar` que integra una EDO con un método dado. Como primer argumento, debe aceptar un argumento `método`, el cual indica la función que llamar en cada paso de la integración.\n",
    "\n",
    "(ii) Utiliza la función `integrar` para integrar una EDO sencilla escalar con el método de Euler, el método de Euler modificado, y el método del punto medio. Compara las tasas de convergencia de los métodos."
   ]
  },
  {
   "cell_type": "code",
   "execution_count": null,
   "metadata": {},
   "outputs": [],
   "source": []
  },
  {
   "cell_type": "markdown",
   "metadata": {},
   "source": [
    "## Runga-Kutta de más alto orden"
   ]
  },
  {
   "cell_type": "markdown",
   "metadata": {},
   "source": [
    "Se pueden derivar métodos de Runge-Kutta de más alto orden, es decir, siempre con la meta de reproducir la expansión de Taylor de $x(t+h)$ a cada vez más alto orden. Sin embargo, los cálculos se vuelven bastante complicados."
   ]
  },
  {
   "cell_type": "markdown",
   "metadata": {},
   "source": [
    "#### Ejercicio 4\n",
    "\n",
    "(i) Uno de los métodos de Runge-Kutta más utilizados es el llamado **RK4**, que es de cuarto orden. Encuentra las ecuaciones para este método e impleméntalo para el caso de una ecuación EDO escalar.\n",
    "\n",
    "(ii) Implementa un paso de RK4 para una ecuación EDO vectorial.\n",
    "\n",
    "(iii) Utiliza `integrar` para comparar su tasa de convergencia y compáralo visualmente  con los demás métodos."
   ]
  },
  {
   "cell_type": "code",
   "execution_count": null,
   "metadata": {},
   "outputs": [],
   "source": []
  },
  {
   "cell_type": "markdown",
   "metadata": {},
   "source": [
    "## Paso adaptativo"
   ]
  },
  {
   "cell_type": "markdown",
   "metadata": {},
   "source": [
    "Hasta ahora, en todas las integraciones de EDOs que hemos hecho, ha habido un tamaño de paso fijo, que es un parámetro que pasamos a la función `RK4` etc.\n",
    "\n",
    "Pero surge una pregunta: ¿cómo se debe escoger el tamaño del paso? (Seguro ¡has pasado por esta pregunta!) La respuesta dependerá de la función $\\mathbf{f}$ que estemos integrando: si $\\mathbf{f}$ cambia rápido, debemos usar un paso más chiquito para resolver los cambios; si cambia más lentamente, podemos utilizar un paso más grande. \n",
    "\n",
    "El problema es que ¡sólo podemos saber qué tan rápido varía la función en medio de la integración misma!\n",
    "La solución es utilizar un método *adaptativo*: el método mismo tiene (cierto) control del tamaño de paso, el cual *se irá cambiando de manera automática* para tomar en cuenta la propia tasa de cambio de la función.\n",
    "\n",
    "Por esta razón, (casi) *nunca* se deberían utilizar los métodos simples y no-adaptativos como Euler y RK4 en la práctica."
   ]
  },
  {
   "cell_type": "markdown",
   "metadata": {},
   "source": [
    "## Euler adaptativo "
   ]
  },
  {
   "cell_type": "markdown",
   "metadata": {},
   "source": [
    "Dado que este tema se puede volver complicado, consideremos el método de Euler por simplicidad. Queremos resolver \n",
    "\n",
    "$$\\dot{x} = f(x),$$\n",
    "\n",
    "y tenemos\n",
    "\n",
    "$$x_{n+1} = x_n + h \\, f(x_n) + \\epsilon_1(h), \\qquad (3)$$\n",
    "\n",
    "donde $\\epsilon_1(h) = C \\, h^2$ es el error de un paso.\n",
    "Aquí, hemos supuesto que $C$ no depende de $h$. Esto no es realmente cierto (¿por qué?), pero facilita el cálculo.\n",
    "\n",
    "Para ciertos tipos de función $f$ (¿cuáles? -- ¿qué otra forma podríamos utilizar para el término del error?), el término del error será grande.\n",
    "¿Cómo podemos *estimar* el tamaño de este término?\n",
    "\n",
    "Una idea es el de tomar *dos* pasos, de tamaño $h/2$."
   ]
  },
  {
   "cell_type": "markdown",
   "metadata": {},
   "source": [
    "#### Ejercicio 5\n",
    "\n",
    "(i) Encuentra la expresión para $x_n$ si se toman dos pasos de tamaño $h/2$, \n",
    "donde $x_{n+\\frac{1}{2}}$ es el lugar intermedio.\n",
    "Substrae los dos resultados del método de Euler para encontrar el tamaño del error $\\epsilon$."
   ]
  },
  {
   "cell_type": "markdown",
   "metadata": {},
   "source": [
    "Si $\\epsilon < \\mathrm{tol}$, una cierta tolerancia que imponemos, entonces el paso es exitoso, y actualizamos las variables. En este caso, la función está variando lentamente, así que podemos *incrementar* el tamaño del paso. \n",
    "Si no es exitoso, reducimos la tolerancia. En los dos casos, podemos actualizar según una regla de la forma\n",
    "\n",
    "$$ h' = 0.9 h \\, \\frac{\\mathrm{tol}}{|\\epsilon|}.$$"
   ]
  },
  {
   "cell_type": "markdown",
   "metadata": {},
   "source": [
    "(ii) ¿Por qué funciona esta fórmula tanto cuando el paso tuvo éxito, como cuando no fue así?\n",
    "\n",
    "(iii) Implementa un método adaptativo de Euler. Nota que será necesario escribir una nueva función `integrar_adaptivo` que maneje los cambios del tamaño del paso.\n",
    "\n",
    "(iv) Prúebalo para un sistema que hemos estudiado en el cual fracasa Euler. ¿Ayuda?"
   ]
  },
  {
   "cell_type": "markdown",
   "metadata": {},
   "source": []
  },
  {
   "cell_type": "markdown",
   "metadata": {},
   "source": [
    "## Métodos de Runge-Kutta adaptativos "
   ]
  },
  {
   "cell_type": "markdown",
   "metadata": {},
   "source": [
    "Supongamos que hiciéramos la misma idea para Runge-Kutta 4."
   ]
  },
  {
   "cell_type": "markdown",
   "metadata": {},
   "source": [
    "#### Ejercicio 6\n",
    "\n",
    "¿Cuántas evaluaciones de la función $f$ se requieren para llevar a cabo un paso de tamaño $h$?"
   ]
  },
  {
   "cell_type": "code",
   "execution_count": null,
   "metadata": {},
   "outputs": [],
   "source": []
  },
  {
   "cell_type": "markdown",
   "metadata": {},
   "source": [
    "Dado que esto puede ser caro, hay una mejor solución. Resulta que hay métodos de Runge-Kutta llamados \"embedded\" (\"embebido\") tales que podemos utilizar las *mismas* evaluaciones de la función $f$ (en los mismos lugares del intervalo $[t, t+h]$), y nos proporciona ¡*dos* estimados diferentes de $x(t+h)$, con dos órdenes de error distintos! Esto se puede aplicar de la misma forma para controlar el tamaño de paso, pero con menos evaluaciones de $f$ en cada paso que tomar dos pasos de tamaño $h/2$.\n",
    "\n",
    "Este método, y otros parecidos, es uno de los que se suele utilizar para cálculos serios."
   ]
  },
  {
   "cell_type": "markdown",
   "metadata": {},
   "source": [
    "#### Ejercicio 7  (opcional) \n",
    "\n",
    "Implementa el método \"RK45\" (Runge-Kutta-Fehlberg), que mezcla un método de 4o. y de 5o. orden. Verifica su orden de convergencia."
   ]
  },
  {
   "cell_type": "code",
   "execution_count": null,
   "metadata": {},
   "outputs": [],
   "source": []
  }
 ],
 "metadata": {
  "kernelspec": {
   "display_name": "Julia 1.0.0",
   "language": "julia",
   "name": "julia-1.0"
  },
  "language_info": {
   "file_extension": ".jl",
   "mimetype": "application/julia",
   "name": "julia",
   "version": "1.0.1"
  }
 },
 "nbformat": 4,
 "nbformat_minor": 1
}
