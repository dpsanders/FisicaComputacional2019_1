{
 "cells": [
  {
   "cell_type": "markdown",
   "metadata": {},
   "source": [
    "# Problemas estacionarios con valores en la frontera"
   ]
  },
  {
   "cell_type": "markdown",
   "metadata": {},
   "source": [
    "Hasta ahora, hemos estudiado únicamente las **ecuaciones de evolución**, o sea, problemas **con valores iniciales**, en los cuales se quiere determinar la evolución temporal de la solución, tanto para EDOs como para EDPs.\n",
    "\n",
    "Otra clase fundamental de problemas son los **problemas estacionarios** o **problemas estáticos**, también llamados **problemas con valores en la frontera**. En este tipo de problemas, se busca una solución estacionaria, es decir, una solución que *no* cambia en el tiempo, pero que sí depende del espacio.\n",
    "\n",
    "Este tipo de problemas surge en distintos contextos. Por ejemplo, si resolvemos la ecuación de difusión con condiciones de Dirichlet dadas que no sean cero, la solución temporal *converge* a una solución estacionaria. ¿Podemos calcular directamente esta solución estacionaria? Los problemas estacionarios también ocurren naturalmente al resolver, por ejemplo, las ecuaciones de Laplace y de Poisson para determinar el potencial (y de ahí el campo) eléctrico para una configuración dada de cargas y fronteras."
   ]
  },
  {
   "cell_type": "markdown",
   "metadata": {},
   "source": [
    "## Las ecuaciones de Poisson y de Laplace "
   ]
  },
  {
   "cell_type": "markdown",
   "metadata": {},
   "source": [
    "Consideremos el problema de encontrar el campo de potencial debido a una distribución de carga eléctrica. El campo de potencial $V(\\mathbf{x})$ satisface la ecuación de Poisson,\n",
    "\n",
    "$$ \\nabla^2 V(\\mathbf{x}) = -\\rho(\\mathbf{x}), $$\n",
    "\n",
    "donde $\\rho(\\mathbf{x})$ es la densidad de carga en unidades adecuadas.\n",
    "Si hay, por ejemplo, dos placas con potenciales dados, entonces queremos resolver este problema con los valores en la frontera  $V = V_1$ y $V = V_2$ en las dos placas.\n",
    "\n",
    "Para comenzar, reduzcamos el problema a una sola dimensión. Entonces la ecuación se vuelve\n",
    "\n",
    "$$ \\frac{d^2 V(x)}{dx^2} = -\\rho(x) \\quad (*) $$ \n",
    "\n",
    "para todas las $x$,\n",
    "con $V(a) = x_1$ y $V(b) = x_2$,\n",
    "es decir, una EDO con valores en la frontera.\n",
    "\n",
    "Este tipo de problema tiene una naturaleza *completamente diferente* de los que hemos visto anteriormente en EDOs, ya que *no hay evolución* en el tiempo. Y sin embargo..."
   ]
  },
  {
   "cell_type": "markdown",
   "metadata": {},
   "source": [
    "#### Ejercicio 1\n",
    "\n",
    "(i) Discretiza la ecuación con una malla en el espacio, tal como hicimos para la ecuación de difusión: ¿cuál ecuación discretizada se satisface en el sitio $x_i$? \n",
    "\n",
    "(ii) ¿Si hay una sola carga puntual, cuáles sitios son especiales?\n",
    "\n",
    "(iii) Dado que ya no hay evolución en el tiempo, todas las ecuaciones para todos los sitios $i$ **se deben cumplir simultáneamente**. \n",
    "\n",
    "¿Qué tipo de problema resulta entonces? Escribe el problema con una notación breve que ya conoces de otros cursos."
   ]
  },
  {
   "cell_type": "markdown",
   "metadata": {},
   "source": [
    "## Método iterativo de solución"
   ]
  },
  {
   "cell_type": "markdown",
   "metadata": {},
   "source": [
    "Hay varios métodos posibles para resolver problemas de esta índole. Empezaremos con ocupar un método **iterativo** que recién vimos:"
   ]
  },
  {
   "cell_type": "markdown",
   "metadata": {},
   "source": [
    "#### Ejercicio 2\n",
    "\n",
    "(i) Reescribe la ecuación en el sitio $x_i$ que encontraste en la pregunta **1** para despejar $V_i$, el valor aproximado de $V(x_i)$.\n",
    "\n",
    "Ahora **inventemos** una dinámica, de una manera parecida a la que utilizamos con los primeros métodos iterativos para resolver ecuaciones: pongamos esta $V_i$ como $V_i^{t+1}$, y los demás $V_i$ como $V_i^t$.\n",
    "\n",
    "(ii) Escribe la nueva ecuación. ¿Cómo se relaciona la solución de la ecuación (*) con esta dinámica?\n",
    "\n",
    "(iii) Implementa esta dinámica para el caso cuando $\\rho(x) \\equiv 0$, es decir, la **ecuación de Laplace** con condiciones en la frontera $V(x=0) = a$ y $V(x=1) = b$. Haz una animación con `Interact.jl`.\n",
    "\n",
    "(iv) Encuentra la solución analítica de la ecuación diferencial y compáralo con tu solución. [Nota que tendrás que esperar bastante tiempo para que la solución a la ecuación dinámica converja.]\n",
    "\n",
    "(v) ¿De qué es discretización la ecuación dinámica?, es decir, ¿cuál ecuación de evolución estamos resolviendo? ¿Por qué es tan lenta la convergencia?"
   ]
  },
  {
   "cell_type": "markdown",
   "metadata": {},
   "source": [
    "#### Ejercicio 3\n",
    "\n",
    "(i) Utiliza la misma técnica para resolver la siguiente EDO con valores en la frontera para $y(x)$:\n",
    "\n",
    "\\begin{align}\n",
    "y'' + y &= 0 \\\\\n",
    "y(0) &= 0\\\\\n",
    "y \\left( \\frac{\\pi}{2} \\right) &= 2\n",
    "\\end{align}\n",
    "\n",
    "Compara tu solución con el resultado analítico.\n",
    "\n",
    "(ii) ¿Qué ocurre si cambias las condiciones en la frontera a $y(0) = 1$ y $y(\\frac{\\pi}{2}) = 2$?"
   ]
  },
  {
   "cell_type": "markdown",
   "metadata": {},
   "source": [
    "#### Ejercicio 4\n",
    "\n",
    "Ahora pensemos en la ecuación de Poisson en 1D con una carga puntual en la posición $x_0$.\n",
    "\n",
    "(i) ¿Cómo puedes modelar matemáticamente la carga puntual? Para tratar esto numéricamente, utilizamos la misma técnica que anteriormente.\n",
    "\n",
    "(ii) Escribe la ecuación diferencial y discretízala, tomando cuidado con los puntos especiales.\n",
    "\n",
    "(iii) Impleméntalo y verifica que la solución sea correcta."
   ]
  },
  {
   "cell_type": "code",
   "execution_count": null,
   "metadata": {},
   "outputs": [],
   "source": []
  }
 ],
 "metadata": {
  "kernelspec": {
   "display_name": "Julia 1.0.2",
   "language": "julia",
   "name": "julia-1.0"
  },
  "language_info": {
   "file_extension": ".jl",
   "mimetype": "application/julia",
   "name": "julia",
   "version": "1.0.2"
  }
 },
 "nbformat": 4,
 "nbformat_minor": 1
}
