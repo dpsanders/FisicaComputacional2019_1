{
 "cells": [
  {
   "cell_type": "markdown",
   "metadata": {},
   "source": [
    "# Euler puede fracasar: sistemas con leyes de conservación"
   ]
  },
  {
   "cell_type": "markdown",
   "metadata": {},
   "source": [
    "El método de Euler es sencillo y útil, pero tiene un defecto importante: ¡puede fracasar!, o sea, no integra correctamente las EDOs. De hecho, resulta que *casi siempre fracasa*, no sólo cuantitativamente, sino también cualitativamente.\n",
    "\n",
    "Por ejemplo, consideremos la ecuación del péndulo para ángulos pequeños, o sea, un oscilador armónico simple, ahora *sin* amortiguamiento."
   ]
  },
  {
   "cell_type": "markdown",
   "metadata": {},
   "source": [
    "#### Ejercicio 1\n",
    "\n",
    "(i) Escribe la ecuación de movimiento del oscilador armónico simple, en términos del ángulo $\\theta$ del péndulo desde el vertical, y la velocidad angular $\\omega$.\n",
    "\n",
    "(ii) Dibuja el campo vectorial.\n",
    "\n",
    "(ii) Integra la ecuación utilizando el método de Euler dibuja bastantes trayectorias en el espacio fase  $(\\theta, \\omega)$, empezando desde distintas condiciones iniciales.\n",
    " ¿Tienen sentido físico? ¿Por qué?\n",
    "\n",
    "(iii) Recuerda que este sistema físico tiene una propiedad especial: existe una **ley de conservación**. ¿Cuál es la cantidad física que se conserva? Escríbela en términos de $\\theta$ y $\\omega$.\n",
    "\n",
    "(iv) Dado que esta cantidad se conserva, ¿qué debe satisfacer una trayectoria que sale de una condición inicial dada? [Pista: piensa en **curvas de nivel**.] ¿Por qué? ¿Puedes escribir una ecuación que describe cómo evoluciona la cantidad conservada a lo largo del tiempo?\n",
    "\n",
    "Utiliza `contour` para dibujar curvas de nivel, y compáralos gráficamente con las trayectorias que da Euler. ¿Qué observas?\n",
    "\n",
    "(v) Calcula numéricamente cómo varía la cantidad \"conservada\" a lo largo de una trayectoria calculada con Euler. ¿Qué ocurre?"
   ]
  },
  {
   "cell_type": "code",
   "execution_count": null,
   "metadata": {},
   "outputs": [],
   "source": []
  },
  {
   "cell_type": "markdown",
   "metadata": {},
   "source": [
    "# El método de Euler-Cromer"
   ]
  },
  {
   "cell_type": "markdown",
   "metadata": {},
   "source": [
    "Un cambio aparentemente insignificativo al método numérico puede dar resultados mucho mejores para ciertas clases de sistema.\n",
    "\n",
    "En el llamado método de Euler-Cromer, actualizamos\n",
    "*primero* la velocidad, y utilizamos esta *nueva* velocidad para actualizar la posición en las reglas usuales del método de Euler."
   ]
  },
  {
   "cell_type": "markdown",
   "metadata": {},
   "source": [
    "#### Ejercicio 2\n",
    "\n",
    "(i) Aplica el método de Euler-Cromer al oscilador armónico. [Haz una versión nueva de tu código de Euler para 2 variables.] Dibuja trayectorias desde varios puntos iniciales en un solo plano fase, junto con las curvas de nivel y campo vectorial correspondientes.\n",
    "\n",
    "(ii) Encuentra la tasa de convergencia de Euler-Cromer a la solución exacta cuando el tamaño $h$ de un paso converge a cero. ¿Cómo se compara con la tasa de convergencia del método de Euler?"
   ]
  },
  {
   "cell_type": "code",
   "execution_count": null,
   "metadata": {},
   "outputs": [],
   "source": []
  },
  {
   "cell_type": "markdown",
   "metadata": {},
   "source": [
    "#### Ejercicio 3\n",
    "\n",
    "(i) Escribe la EDO que describe un péndulo simple. ¿Cuál cantidad se conserva?\n",
    "\n",
    "(ii) Aplica Euler-Cromer a este sistema y dibuja bastantes trayectorias en el espacio fase, junto con curvas de nivel y el campo vectorial correspondientes.\n",
    "\n",
    "(iii) Dibuja el comportamiento de las dos componentes en función del tiempo. \n",
    "\n",
    "(iv) Resume el comportamiento físico del sistema.\n",
    "\n",
    "(v) Hay regiones (puntos, curvas, etc.) especiales en el espacio fase? ¿Cuáles son, y a qué corresponden físicamente?\n"
   ]
  },
  {
   "cell_type": "code",
   "execution_count": null,
   "metadata": {},
   "outputs": [],
   "source": []
  },
  {
   "cell_type": "markdown",
   "metadata": {},
   "source": [
    "# El método de Euler para atrás"
   ]
  },
  {
   "cell_type": "markdown",
   "metadata": {},
   "source": [
    "Tomemos otro punto de vista de los métodos numéricos para las EDOs.\n",
    "\n",
    "Al integrar los dos lados de la EDO\n",
    "\n",
    "$$\\dot{x}(t) = f(x(t), t)$$\n",
    "\n",
    "con respecto al tiempo para $t$ entre $t_0$ y $t_0+h$, obtenemos\n",
    "\n",
    "$$x(t_0+h) - x(t_0) = \\int_{t_0}^{t_0+h} f(x(t'), t') \\, dt'.$$\n",
    "\n",
    "Por lo tanto, podemos intentar aplicar los métodos numéricos que ya vimos para calcular integrales definidas a este problema."
   ]
  },
  {
   "cell_type": "markdown",
   "metadata": {},
   "source": [
    "#### Ejercicio 4\n",
    "\n",
    "(i) ¿A cuál método de integración numérica corresponde el método de Euler? - es decir, ¿cómo se aproxima la función $f$ adentro de la integral?\n",
    "\n",
    "(ii) Supón (para simplicidad) que $f$ no depende explícitamente de $t$ y escribe una fórmula analítica de cómo sería un paso del método del trapecio a la integral para encontrar una ecuación para $x(t_0 + h)$. ¿Qué *tipo de* ecuación resulta?\n",
    "\n",
    "(iii) ¿Cuál método numérico podemos aplicar para resolver esta ecuación?\n",
    "\n",
    "(iv) Implementa esto y pruébalo. Compara los resultados con los del método de Euler. ¿Converge más rápido?\n",
    "\n",
    "(v) ¿Cómo se puede aplicar para sistemas con dos variables?"
   ]
  },
  {
   "cell_type": "code",
   "execution_count": null,
   "metadata": {},
   "outputs": [],
   "source": []
  }
 ],
 "metadata": {
  "kernelspec": {
   "display_name": "Julia 1.0.0",
   "language": "julia",
   "name": "julia-1.0"
  },
  "language_info": {
   "file_extension": ".jl",
   "mimetype": "application/julia",
   "name": "julia",
   "version": "1.0.1"
  },
  "toc": {
   "colors": {
    "hover_highlight": "#DAA520",
    "running_highlight": "#FF0000",
    "selected_highlight": "#FFD700"
   },
   "moveMenuLeft": true,
   "nav_menu": {
    "height": "66px",
    "width": "252px"
   },
   "navigate_menu": true,
   "number_sections": true,
   "sideBar": true,
   "threshold": "2",
   "toc_cell": false,
   "toc_section_display": "block",
   "toc_window_display": false
  }
 },
 "nbformat": 4,
 "nbformat_minor": 1
}
