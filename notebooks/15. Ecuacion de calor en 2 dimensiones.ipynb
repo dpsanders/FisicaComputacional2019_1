{
 "cells": [
  {
   "cell_type": "markdown",
   "metadata": {},
   "source": [
    "# La ecuación de calor en 2D"
   ]
  },
  {
   "cell_type": "markdown",
   "metadata": {},
   "source": [
    "Los sistemas físicos raremente viven en 1 sola dimensión. Es más usual que sean dos-dimensionales o tres-dimensionales. \n",
    "\n",
    "Dado que los sistemas 3D son computacionalmente demandantes, y las ideas a menudo son las mismas que en 2D, nos restringiremos al caso 2D."
   ]
  },
  {
   "cell_type": "markdown",
   "metadata": {},
   "source": [
    "La ecuación de difusión en 2D es\n",
    "\n",
    "$$\\frac{\\partial u(x,y,t)}{\\partial t} = \\nabla^2 u(x,y,t),$$\n",
    "\n",
    "donde $\\nabla^2 u(x,y,t) = \\frac{\\partial^2 u(x,y,t)}{\\partial x^2} + \\frac{\\partial^2 u(x,y,t)}{\\partial y^2}$."
   ]
  },
  {
   "cell_type": "markdown",
   "metadata": {},
   "source": [
    "Para discretizar el sistema, extenderemos lo que ya habíamos hecho en 1D:\n",
    "utilizaremos una malla con nodos $(x_i, y_j; t_n)$, con paso $h$ en el tiempo, y tamaños de celda $k$ para $x$, y $l$ para $y$. Notaremos por $u_{i, j}^n$ la aproximación que calcularemos de $u(x_i, y_j; t_n)$."
   ]
  },
  {
   "cell_type": "markdown",
   "metadata": {},
   "source": [
    "#### Ejercicio 1\n",
    "\n",
    "(i) Encuentra una discretización de $\\nabla^2 u$ en el punto $(x_i, y_j; t_n)$.\n",
    "\n",
    "(ii) Así, escribe la ecuación discretizada en el punto $(x_i, y_j; t_n)$ la malla, y de ahí la regla para la evolución de Euler en el tiempo.\n",
    "\n",
    "(iii) ¿Cómo son las condiciones de frontera de Dirichlet ahora? ¿Qué esperas ver físicamente para este tipo de condiciones absorbentes?"
   ]
  },
  {
   "cell_type": "code",
   "execution_count": null,
   "metadata": {},
   "outputs": [],
   "source": []
  },
  {
   "cell_type": "markdown",
   "metadata": {},
   "source": [
    "#### Ejercicio 2\n",
    "\n",
    "(i) Implementa esto computacionalmente y haz una animación para una condición inicial tipo delta. \n",
    "Ahora en lugar de un vector para representar al estado actual del sistema, necesitarás una *matriz* para las $u^n_{i,j}$ en el tiempo actual $t_n$.\n",
    "\n",
    "(ii) ¿Qué ocurre para otras condiciones iniciales?\n",
    "\n",
    "(iii) Haz animaciones, por ejemplo utilizando `Interact.jl`."
   ]
  },
  {
   "cell_type": "code",
   "execution_count": null,
   "metadata": {},
   "outputs": [],
   "source": []
  },
  {
   "cell_type": "markdown",
   "metadata": {},
   "source": [
    "#### Ejercicio 3 \n",
    "\n",
    "(i) Escribe las condiciones de frontera de Neumann para el sistema en un cuadrado.\n",
    "\n",
    "(ii) Discretízalas. \n",
    "\n",
    "(iii) Implementa la evolución con condiciones de Neumann. ¿Qué esperas ver físicamente?\n",
    "\n",
    "(iv) Haz animaciones.\n",
    "\n",
    "[Nota que se puede reutilizar el mismo código que ya hiciste para las condiciones de Dirichlet, si extraes la parte de implementar las condiciones de frontera a otra función, y mandas esta función como otro argumento a la función principal para escoger cuáles condiciones de frontera se ocuparán.]"
   ]
  },
  {
   "cell_type": "markdown",
   "metadata": {},
   "source": []
  },
  {
   "cell_type": "markdown",
   "metadata": {},
   "source": [
    "#### Ejercicio 4\n",
    "\n",
    "Ahora considera condiciones **periódicas** de frontera. Aquí, el vecino de una celda en la frontera que \"se sale del sistema\" se toma como la celda *del otro lado del sistema*. [Esto le da al sistema la topología de un toro; minimiza el efecto de las fronteras, para simular mejor un sistema de tamaño \"infinito\".]\n",
    "\n",
    "(i) Para todos los sitios de frontera, calcula cuáles son sus 4 vecinos. Esto se puede hacer utilizando una 4 funciones, una para cada dirección, escritas con `if` o con módulo (`%`).\n",
    "\n",
    "(ii) Implementa la ecuación de calor con fronteras periódicas. ¿Qué esperas observar?\n",
    "\n",
    "(iii) Haz animaciones.\n",
    "\n",
    "**Opcional: Otra manera de implementarlo es copiando las fronteras de un lado del sistema al otro en cada paso para extender las fronteras en una distancia de uno en cada dirección, con llamadas \"celdas fantasma\". Impleméntalo.\n"
   ]
  },
  {
   "cell_type": "code",
   "execution_count": null,
   "metadata": {},
   "outputs": [],
   "source": []
  }
 ],
 "metadata": {
  "kernelspec": {
   "display_name": "Julia 0.6.4",
   "language": "julia",
   "name": "julia-0.6"
  },
  "language_info": {
   "file_extension": ".jl",
   "mimetype": "application/julia",
   "name": "julia",
   "version": "0.6.4"
  }
 },
 "nbformat": 4,
 "nbformat_minor": 1
}
