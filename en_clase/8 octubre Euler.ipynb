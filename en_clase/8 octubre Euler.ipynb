{
 "cells": [
  {
   "cell_type": "markdown",
   "metadata": {},
   "source": [
    "# El método de Euler"
   ]
  },
  {
   "cell_type": "markdown",
   "metadata": {},
   "source": [
    "Queremos resolver\n",
    "\n",
    "$$\\dot{x} = f(x, t)$$"
   ]
  },
  {
   "cell_type": "markdown",
   "metadata": {},
   "source": [
    "Idea: Aproximar la solución $x(t)$ al discretizarla:\n",
    "\n",
    "- Avanzar de pasito en pasito: de $t_0$, avanzamos a $t_1 = t_0 + h$, con $h \\ll t_f - t_0$.\n",
    "\n",
    "Por lo tanto, queremos calcular\n",
    "\n",
    "$x(t_0+h) \\simeq x(t_0) + h \\cdot \\dot{x}(t_0) + \\mathcal{O}(h^2) = x(t_0) + h \\cdot f(x_0, t_0) + \\mathcal{O}(h^2)$\n",
    "\n",
    "Si llamamos $x_n$ la aproximación en el $n$-ésimo paso, o sea al tiempo $t_n$, tenemos un **paso del método de Euler**:\n",
    "\n",
    "$$\\boxed{x_{n+1} = x_n + h \\cdot f(x_n, t_n)}$$\n",
    "\n",
    "\n",
    "\n"
   ]
  },
  {
   "cell_type": "markdown",
   "metadata": {},
   "source": [
    "## Implementación de Euler "
   ]
  },
  {
   "cell_type": "code",
   "execution_count": 2,
   "metadata": {},
   "outputs": [
    {
     "data": {
      "text/plain": [
       "paso_euler (generic function with 1 method)"
      ]
     },
     "execution_count": 2,
     "metadata": {},
     "output_type": "execute_result"
    }
   ],
   "source": [
    "function paso_euler(f, x, t, h)\n",
    "    \n",
    "    x_siguiente = x + h * f(x, t)\n",
    "\n",
    "    return x_siguiente\n",
    "end"
   ]
  },
  {
   "cell_type": "code",
   "execution_count": 3,
   "metadata": {},
   "outputs": [
    {
     "data": {
      "text/plain": [
       "g (generic function with 1 method)"
      ]
     },
     "execution_count": 3,
     "metadata": {},
     "output_type": "execute_result"
    }
   ],
   "source": [
    "g(x) = x"
   ]
  },
  {
   "cell_type": "code",
   "execution_count": 4,
   "metadata": {},
   "outputs": [
    {
     "ename": "MethodError",
     "evalue": "MethodError: no method matching g(::Float64, ::Float64)\nClosest candidates are:\n  g(::Any) at In[3]:1",
     "output_type": "error",
     "traceback": [
      "MethodError: no method matching g(::Float64, ::Float64)\nClosest candidates are:\n  g(::Any) at In[3]:1",
      "",
      "Stacktrace:",
      " [1] paso_euler(::typeof(g), ::Float64, ::Float64, ::Float64) at ./In[2]:3",
      " [2] top-level scope at In[4]:1"
     ]
    }
   ],
   "source": [
    "paso_euler(g, 1.0, 3.0, 0.1)"
   ]
  },
  {
   "cell_type": "code",
   "execution_count": 5,
   "metadata": {},
   "outputs": [
    {
     "data": {
      "text/plain": [
       "g (generic function with 2 methods)"
      ]
     },
     "execution_count": 5,
     "metadata": {},
     "output_type": "execute_result"
    }
   ],
   "source": [
    "g(x, t) = x"
   ]
  },
  {
   "cell_type": "code",
   "execution_count": 7,
   "metadata": {},
   "outputs": [
    {
     "data": {
      "text/plain": [
       "\u001b[32m\u001b[1mTest Passed\u001b[22m\u001b[39m"
      ]
     },
     "execution_count": 7,
     "metadata": {},
     "output_type": "execute_result"
    }
   ],
   "source": [
    "using Test  # using Base.Test  en Julia 0.6\n",
    "\n",
    "@test paso_euler(g, 1.0, 3.0, 0.1) == 1.1"
   ]
  },
  {
   "cell_type": "code",
   "execution_count": 8,
   "metadata": {},
   "outputs": [
    {
     "name": "stdout",
     "output_type": "stream",
     "text": [
      "\u001b[91m\u001b[1mTest Failed\u001b[22m\u001b[39m at \u001b[39m\u001b[1mIn[8]:1\u001b[22m\n",
      "  Expression: paso_euler(g, 1.0, 3.0, 0.1) == 1.0\n",
      "   Evaluated: 1.1 == 1.0\n"
     ]
    },
    {
     "ename": "Test.FallbackTestSetException",
     "evalue": "There was an error during testing",
     "output_type": "error",
     "traceback": [
      "There was an error during testing",
      "",
      "Stacktrace:",
      " [1] record(::Test.FallbackTestSet, ::Test.Fail) at /Users/osx/buildbot/slave/package_osx64/build/usr/share/julia/stdlib/v1.0/Test/src/Test.jl:707",
      " [2] do_test(::Test.Returned, ::Expr) at /Users/osx/buildbot/slave/package_osx64/build/usr/share/julia/stdlib/v1.0/Test/src/Test.jl:496",
      " [3] top-level scope at In[8]:1"
     ]
    }
   ],
   "source": [
    "@test paso_euler(g, 1.0, 3.0, 0.1) == 1.0"
   ]
  },
  {
   "cell_type": "code",
   "execution_count": 11,
   "metadata": {},
   "outputs": [
    {
     "name": "stdout",
     "output_type": "stream",
     "text": [
      "\u001b[37m\u001b[1mTest Summary:         | \u001b[22m\u001b[39m\u001b[32m\u001b[1mPass  \u001b[22m\u001b[39m\u001b[36m\u001b[1mTotal\u001b[22m\u001b[39m\n",
      "Tests para paso_euler | \u001b[32m   2  \u001b[39m\u001b[36m    2\u001b[39m\n"
     ]
    },
    {
     "data": {
      "text/plain": [
       "Test.DefaultTestSet(\"Tests para paso_euler\", Any[], 2, false)"
      ]
     },
     "execution_count": 11,
     "metadata": {},
     "output_type": "execute_result"
    }
   ],
   "source": [
    "@testset \"Tests para paso_euler\" begin\n",
    "    g(x, t) = x\n",
    "    \n",
    "    @test paso_euler(g, 1.0, 3.0, 0.1) == 1.1\n",
    "    @test paso_euler(g, 1.0, 3.0, 0.2) == 1.2\n",
    "end"
   ]
  },
  {
   "cell_type": "markdown",
   "metadata": {},
   "source": [
    "Se puede hacer \"Test-driven development\"\n",
    "(Desarrollo dirigido por las pruebas): escribes *primero* los tests, y luego las funciones"
   ]
  },
  {
   "cell_type": "markdown",
   "metadata": {},
   "source": [
    "### Euler\n",
    "\n",
    "La función `euler` integrará la EDO $\\dot{x} = f$ de $(x_0, t_0)$ hasta $t_f$ con pasos $h$"
   ]
  },
  {
   "cell_type": "code",
   "execution_count": 16,
   "metadata": {},
   "outputs": [
    {
     "data": {
      "text/plain": [
       "euler (generic function with 1 method)"
      ]
     },
     "execution_count": 16,
     "metadata": {},
     "output_type": "execute_result"
    }
   ],
   "source": [
    "function euler(f, x0; t0=0.0, tf, h)\n",
    "    \n",
    "    @show t0, tf, h\n",
    "    \n",
    "end"
   ]
  },
  {
   "cell_type": "code",
   "execution_count": 17,
   "metadata": {},
   "outputs": [
    {
     "ename": "UndefKeywordError",
     "evalue": "UndefKeywordError: keyword argument tf not assigned",
     "output_type": "error",
     "traceback": [
      "UndefKeywordError: keyword argument tf not assigned",
      "",
      "Stacktrace:",
      " [1] euler(::Function, ::Float64) at ./In[16]:3",
      " [2] top-level scope at In[17]:1"
     ]
    }
   ],
   "source": [
    "euler(g, 1.0)"
   ]
  },
  {
   "cell_type": "code",
   "execution_count": 18,
   "metadata": {},
   "outputs": [
    {
     "name": "stdout",
     "output_type": "stream",
     "text": [
      "(t0, tf, h) = (0.0, 10.0, 0.1)\n"
     ]
    },
    {
     "data": {
      "text/plain": [
       "(0.0, 10.0, 0.1)"
      ]
     },
     "execution_count": 18,
     "metadata": {},
     "output_type": "execute_result"
    }
   ],
   "source": [
    "euler(g, 1.0, tf=10.0, h=0.1)"
   ]
  },
  {
   "cell_type": "code",
   "execution_count": 22,
   "metadata": {},
   "outputs": [
    {
     "data": {
      "text/plain": [
       "euler (generic function with 2 methods)"
      ]
     },
     "execution_count": 22,
     "metadata": {},
     "output_type": "execute_result"
    }
   ],
   "source": [
    "function euler(f; x0, t0, tf, h)  # argumentos de palabra clave\n",
    "    # \"keyword arguments\"\n",
    "    \n",
    "    @show x0, t0, tf, h\n",
    "    \n",
    "end"
   ]
  },
  {
   "cell_type": "code",
   "execution_count": 23,
   "metadata": {},
   "outputs": [
    {
     "name": "stdout",
     "output_type": "stream",
     "text": [
      "(x0, t0, tf, h) = (1.0, 0.0, 10.0, 0.1)\n"
     ]
    },
    {
     "data": {
      "text/plain": [
       "(1.0, 0.0, 10.0, 0.1)"
      ]
     },
     "execution_count": 23,
     "metadata": {},
     "output_type": "execute_result"
    }
   ],
   "source": [
    "euler(g, t0=0.0, x0=1.0, h=0.1, tf=10.0)"
   ]
  },
  {
   "cell_type": "code",
   "execution_count": 29,
   "metadata": {},
   "outputs": [
    {
     "data": {
      "text/plain": [
       "euler (generic function with 2 methods)"
      ]
     },
     "execution_count": 29,
     "metadata": {},
     "output_type": "execute_result"
    }
   ],
   "source": [
    "function euler(f; x0, t0, tf, h)\n",
    "    \n",
    "    ts = [t0]\n",
    "    xs = [x0]\n",
    "    \n",
    "    t = t0\n",
    "    x = x0\n",
    "    \n",
    "    while t < tf\n",
    "        x_siguiente = paso_euler(f, x, t, h)\n",
    "        t += h\n",
    "        \n",
    "        # final de la vuelta de un bucle:\n",
    "        x = x_siguiente\n",
    "        \n",
    "        push!(xs, x)\n",
    "        push!(ts, t)\n",
    "    end\n",
    "    \n",
    "    return xs, ts\n",
    "    \n",
    "end"
   ]
  },
  {
   "cell_type": "code",
   "execution_count": 30,
   "metadata": {},
   "outputs": [
    {
     "data": {
      "text/plain": [
       "([1.0, 1.1, 1.21, 1.331, 1.4641, 1.61051, 1.77156, 1.94872, 2.14359, 2.35795  …  2.85312, 3.13843, 3.45227, 3.7975, 4.17725, 4.59497, 5.05447, 5.55992, 6.11591, 6.7275], [0.0, 0.1, 0.2, 0.3, 0.4, 0.5, 0.6, 0.7, 0.8, 0.9  …  1.1, 1.2, 1.3, 1.4, 1.5, 1.6, 1.7, 1.8, 1.9, 2.0])"
      ]
     },
     "execution_count": 30,
     "metadata": {},
     "output_type": "execute_result"
    }
   ],
   "source": [
    "g(x, t) = x   # ẋ = x\n",
    "\n",
    "xs, ts = euler( (x,t) -> x, \n",
    "                t0=0.0, tf=2.0, x0=1.0, h=0.1)"
   ]
  },
  {
   "cell_type": "code",
   "execution_count": 31,
   "metadata": {},
   "outputs": [
    {
     "data": {
      "text/plain": [
       "21-element Array{Float64,1}:\n",
       " 1.0               \n",
       " 1.1               \n",
       " 1.2100000000000002\n",
       " 1.3310000000000002\n",
       " 1.4641000000000002\n",
       " 1.61051           \n",
       " 1.7715610000000002\n",
       " 1.9487171         \n",
       " 2.1435888100000002\n",
       " 2.357947691       \n",
       " 2.5937424601      \n",
       " 2.8531167061100002\n",
       " 3.1384283767210004\n",
       " 3.4522712143931003\n",
       " 3.7974983358324104\n",
       " 4.177248169415652 \n",
       " 4.594972986357217 \n",
       " 5.054470284992938 \n",
       " 5.559917313492232 \n",
       " 6.115909044841455 \n",
       " 6.727499949325601 "
      ]
     },
     "execution_count": 31,
     "metadata": {},
     "output_type": "execute_result"
    }
   ],
   "source": [
    "xs"
   ]
  },
  {
   "cell_type": "code",
   "execution_count": null,
   "metadata": {},
   "outputs": [],
   "source": []
  }
 ],
 "metadata": {
  "kernelspec": {
   "display_name": "Julia 1.0.0",
   "language": "julia",
   "name": "julia-1.0"
  },
  "language_info": {
   "file_extension": ".jl",
   "mimetype": "application/julia",
   "name": "julia",
   "version": "1.0.0"
  }
 },
 "nbformat": 4,
 "nbformat_minor": 2
}
