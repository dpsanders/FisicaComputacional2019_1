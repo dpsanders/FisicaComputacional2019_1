{
 "cells": [
  {
   "cell_type": "markdown",
   "metadata": {},
   "source": [
    "# Funciones vectoriales en Julia"
   ]
  },
  {
   "cell_type": "markdown",
   "metadata": {},
   "source": [
    "¿Cómo puedo escribir una función `f` que coma un vector y regrese un vector?"
   ]
  },
  {
   "cell_type": "markdown",
   "metadata": {},
   "source": [
    "Como ejemplo: $f(\\mathbf{x}) = (x + y, y^2 - x)$"
   ]
  },
  {
   "cell_type": "code",
   "execution_count": 3,
   "metadata": {},
   "outputs": [
    {
     "data": {
      "text/plain": [
       "f (generic function with 1 method)"
      ]
     },
     "execution_count": 3,
     "metadata": {},
     "output_type": "execute_result"
    }
   ],
   "source": [
    "function f(x, t)\n",
    "    \n",
    "    return [x[1] + x[2], x[2]^2 - x[1] ] \n",
    "end"
   ]
  },
  {
   "cell_type": "code",
   "execution_count": 4,
   "metadata": {},
   "outputs": [
    {
     "data": {
      "text/plain": [
       "2-element Array{Int64,1}:\n",
       " 5\n",
       " 1"
      ]
     },
     "execution_count": 4,
     "metadata": {},
     "output_type": "execute_result"
    }
   ],
   "source": [
    "f([3, 2], 0)"
   ]
  },
  {
   "cell_type": "code",
   "execution_count": 5,
   "metadata": {},
   "outputs": [
    {
     "data": {
      "text/plain": [
       "g (generic function with 1 method)"
      ]
     },
     "execution_count": 5,
     "metadata": {},
     "output_type": "execute_result"
    }
   ],
   "source": [
    "function g(xx, t)\n",
    "    \n",
    "    x = xx[1]\n",
    "    y = xx[2]\n",
    "    \n",
    "    return [x + y, y^2 - x]\n",
    "end"
   ]
  },
  {
   "cell_type": "code",
   "execution_count": 6,
   "metadata": {},
   "outputs": [
    {
     "data": {
      "text/plain": [
       "2-element Array{Int64,1}:\n",
       " 5\n",
       " 1"
      ]
     },
     "execution_count": 6,
     "metadata": {},
     "output_type": "execute_result"
    }
   ],
   "source": [
    "g([3, 2], 0)"
   ]
  },
  {
   "cell_type": "code",
   "execution_count": 7,
   "metadata": {},
   "outputs": [
    {
     "data": {
      "text/plain": [
       "h (generic function with 1 method)"
      ]
     },
     "execution_count": 7,
     "metadata": {},
     "output_type": "execute_result"
    }
   ],
   "source": [
    "function h(xx, t)\n",
    "    \n",
    "    (x, y) = xx\n",
    "    \n",
    "    return [x + y, y^2 - x]\n",
    "end"
   ]
  },
  {
   "cell_type": "code",
   "execution_count": 8,
   "metadata": {},
   "outputs": [
    {
     "data": {
      "text/plain": [
       "2-element Array{Int64,1}:\n",
       " 5\n",
       " 1"
      ]
     },
     "execution_count": 8,
     "metadata": {},
     "output_type": "execute_result"
    }
   ],
   "source": [
    "h([3, 2], 0)"
   ]
  },
  {
   "cell_type": "code",
   "execution_count": 9,
   "metadata": {},
   "outputs": [
    {
     "data": {
      "text/plain": [
       "h2 (generic function with 1 method)"
      ]
     },
     "execution_count": 9,
     "metadata": {},
     "output_type": "execute_result"
    }
   ],
   "source": [
    "function h2(xx, t)\n",
    "    \n",
    "    (x, y, z) = xx\n",
    "    \n",
    "    return [x + y, y^2 - x]\n",
    "end"
   ]
  },
  {
   "cell_type": "code",
   "execution_count": 10,
   "metadata": {},
   "outputs": [
    {
     "ename": "BoundsError",
     "evalue": "BoundsError: attempt to access 2-element Array{Int64,1} at index [3]",
     "output_type": "error",
     "traceback": [
      "BoundsError: attempt to access 2-element Array{Int64,1} at index [3]",
      "",
      "Stacktrace:",
      " [1] getindex at ./array.jl:731 [inlined]",
      " [2] indexed_iterate at ./tuple.jl:61 [inlined]",
      " [3] h2(::Array{Int64,1}, ::Int64) at ./In[9]:3",
      " [4] top-level scope at In[10]:1"
     ]
    }
   ],
   "source": [
    "h2([3, 2], 0)"
   ]
  },
  {
   "cell_type": "code",
   "execution_count": 11,
   "metadata": {},
   "outputs": [
    {
     "ename": "BoundsError",
     "evalue": "BoundsError: attempt to access 1\n  at index [2]",
     "output_type": "error",
     "traceback": [
      "BoundsError: attempt to access 1\n  at index [2]",
      "",
      "Stacktrace:",
      " [1] indexed_iterate(::Int64, ::Int64, ::Nothing) at ./tuple.jl:69",
      " [2] h2(::Int64, ::Int64) at ./In[9]:3",
      " [3] top-level scope at In[11]:1"
     ]
    }
   ],
   "source": [
    "h2(1, 3)"
   ]
  },
  {
   "cell_type": "code",
   "execution_count": 12,
   "metadata": {},
   "outputs": [
    {
     "data": {
      "text/plain": [
       "h3 (generic function with 1 method)"
      ]
     },
     "execution_count": 12,
     "metadata": {},
     "output_type": "execute_result"
    }
   ],
   "source": [
    "function h3(xx::Vector, t)\n",
    "    \n",
    "    (x, y) = xx\n",
    "    \n",
    "    return [x + y, y^2 - x]\n",
    "end"
   ]
  },
  {
   "cell_type": "code",
   "execution_count": 13,
   "metadata": {},
   "outputs": [
    {
     "data": {
      "text/plain": [
       "2-element Array{Int64,1}:\n",
       " 5\n",
       " 1"
      ]
     },
     "execution_count": 13,
     "metadata": {},
     "output_type": "execute_result"
    }
   ],
   "source": [
    "h3([3, 2], 0)"
   ]
  },
  {
   "cell_type": "code",
   "execution_count": 14,
   "metadata": {},
   "outputs": [
    {
     "ename": "MethodError",
     "evalue": "MethodError: no method matching h3(::Int64, ::Int64)\nClosest candidates are:\n  h3(!Matched::Array{T,1} where T, ::Any) at In[12]:3",
     "output_type": "error",
     "traceback": [
      "MethodError: no method matching h3(::Int64, ::Int64)\nClosest candidates are:\n  h3(!Matched::Array{T,1} where T, ::Any) at In[12]:3",
      "",
      "Stacktrace:",
      " [1] top-level scope at In[14]:1"
     ]
    }
   ],
   "source": [
    "h3(3, 0)"
   ]
  },
  {
   "cell_type": "code",
   "execution_count": 15,
   "metadata": {},
   "outputs": [
    {
     "ename": "MethodError",
     "evalue": "MethodError: no method matching h3(::Tuple{Int64,Int64}, ::Int64)\nClosest candidates are:\n  h3(!Matched::Array{T,1} where T, ::Any) at In[12]:3",
     "output_type": "error",
     "traceback": [
      "MethodError: no method matching h3(::Tuple{Int64,Int64}, ::Int64)\nClosest candidates are:\n  h3(!Matched::Array{T,1} where T, ::Any) at In[12]:3",
      "",
      "Stacktrace:",
      " [1] top-level scope at In[15]:1"
     ]
    }
   ],
   "source": [
    "h3( (3, 2), 0)"
   ]
  },
  {
   "cell_type": "code",
   "execution_count": 16,
   "metadata": {},
   "outputs": [
    {
     "data": {
      "text/plain": [
       "2-element Array{Int64,1}:\n",
       " 5\n",
       " 1"
      ]
     },
     "execution_count": 16,
     "metadata": {},
     "output_type": "execute_result"
    }
   ],
   "source": [
    "h( (3, 2), 0)"
   ]
  },
  {
   "cell_type": "code",
   "execution_count": 17,
   "metadata": {},
   "outputs": [
    {
     "name": "stdout",
     "output_type": "stream",
     "text": [
      "\u001b[32m\u001b[1m  Updating\u001b[22m\u001b[39m registry at `~/.julia/registries/General`\n",
      "\u001b[32m\u001b[1m  Updating\u001b[22m\u001b[39m git-repo `https://github.com/JuliaRegistries/General.git`\n",
      "\u001b[2K\u001b[?25h[1mFetching:\u001b[22m\u001b[39m [========================================>]  100.0 %.0 %14.6 %>                            ]  29.2 %\u001b[36m\u001b[1mFetching:\u001b[22m\u001b[39m [=============>                           ]  31.1 %>                     ]  45.5 %\u001b[36m\u001b[1mFetching:\u001b[22m\u001b[39m [=======================>                 ]  55.9 %           ]  70.4 %\u001b[36m\u001b[1mFetching:\u001b[22m\u001b[39m [==============================>          ]  74.9 %>    ]  89.4 %\u001b[32m\u001b[1m Resolving\u001b[22m\u001b[39m package versions...\n",
      "\u001b[32m\u001b[1m Installed\u001b[22m\u001b[39m IJulia ─────── v1.13.0\n",
      "\u001b[32m\u001b[1m Installed\u001b[22m\u001b[39m Plots ──────── v0.20.5\n",
      "\u001b[32m\u001b[1m Installed\u001b[22m\u001b[39m UnicodePlots ─ v0.3.1\n",
      "\u001b[32m\u001b[1m  Updating\u001b[22m\u001b[39m `~/.julia/environments/v1.0/Project.toml`\n",
      " \u001b[90m [7073ff75]\u001b[39m\u001b[93m ↑ IJulia v1.12.0 ⇒ v1.13.0\u001b[39m\n",
      " \u001b[90m [138f1668]\u001b[39m\u001b[31m ? IntervalConstraintProgramming v0.8.0+ [`~/.julia/environments/v1.0/../../dev/IntervalConstraintProgramming`] ⇒ v0.9.0+ [`~/.julia/environments/v1.0/../../dev/IntervalConstraintProgramming`]\u001b[39m\n",
      " \u001b[90m [c7c68f13]\u001b[39m\u001b[93m ~ IntervalOptimisation v0.2.0+ #dps/v0.7 (https://github.com/JuliaIntervals/IntervalOptimisation.jl.git) ⇒ v0.3.0+ #dps/v0.7 (https://github.com/JuliaIntervals/IntervalOptimisation.jl.git)\u001b[39m\n",
      " \u001b[90m [91a5bcdd]\u001b[39m\u001b[93m ↑ Plots v0.20.4 ⇒ v0.20.5\u001b[39m\n",
      " \u001b[90m [b8865327]\u001b[39m\u001b[92m + UnicodePlots v0.3.1\u001b[39m\n",
      "\u001b[32m\u001b[1m  Updating\u001b[22m\u001b[39m `~/.julia/environments/v1.0/Manifest.toml`\n",
      " \u001b[90m [7073ff75]\u001b[39m\u001b[93m ↑ IJulia v1.12.0 ⇒ v1.13.0\u001b[39m\n",
      " \u001b[90m [138f1668]\u001b[39m\u001b[31m ? IntervalConstraintProgramming v0.8.0+ [`~/.julia/environments/v1.0/../../dev/IntervalConstraintProgramming`] ⇒ v0.9.0+ [`~/.julia/environments/v1.0/../../dev/IntervalConstraintProgramming`]\u001b[39m\n",
      " \u001b[90m [c7c68f13]\u001b[39m\u001b[93m ~ IntervalOptimisation v0.2.0+ #dps/v0.7 (https://github.com/JuliaIntervals/IntervalOptimisation.jl.git) ⇒ v0.3.0+ #dps/v0.7 (https://github.com/JuliaIntervals/IntervalOptimisation.jl.git)\u001b[39m\n",
      " \u001b[90m [91a5bcdd]\u001b[39m\u001b[93m ↑ Plots v0.20.4 ⇒ v0.20.5\u001b[39m\n",
      " \u001b[90m [b8865327]\u001b[39m\u001b[92m + UnicodePlots v0.3.1\u001b[39m\n",
      "\u001b[32m\u001b[1m  Building\u001b[22m\u001b[39m IJulia → `~/.julia/packages/IJulia/0cLgR/deps/build.log`\n",
      "\u001b[32m\u001b[1m  Building\u001b[22m\u001b[39m Plots ─→ `~/.julia/packages/Plots/7o1Vu/deps/build.log`\n"
     ]
    }
   ],
   "source": [
    "]add UnicodePlots\n"
   ]
  },
  {
   "cell_type": "code",
   "execution_count": 18,
   "metadata": {},
   "outputs": [
    {
     "name": "stderr",
     "output_type": "stream",
     "text": [
      "┌ Info: Recompiling stale cache file /Users/dpsanders/.julia/compiled/v1.0/Plots/ld3vC.ji for Plots [91a5bcdd-55d7-5caf-9e0b-520d859cae80]\n",
      "└ @ Base loading.jl:1184\n"
     ]
    }
   ],
   "source": [
    " using Plots"
   ]
  },
  {
   "cell_type": "code",
   "execution_count": 19,
   "metadata": {},
   "outputs": [
    {
     "name": "stderr",
     "output_type": "stream",
     "text": [
      "┌ Info: Precompiling UnicodePlots [b8865327-cd53-5732-bb35-84acbb429228]\n",
      "└ @ Base loading.jl:1186\n"
     ]
    },
    {
     "data": {
      "text/plain": [
       "Plots.UnicodePlotsBackend()"
      ]
     },
     "execution_count": 19,
     "metadata": {},
     "output_type": "execute_result"
    }
   ],
   "source": [
    "unicodeplots()"
   ]
  },
  {
   "cell_type": "code",
   "execution_count": 23,
   "metadata": {},
   "outputs": [
    {
     "data": {
      "text/plain": [
       "      +------------------------------------------------------------+   \n",
       "    2 |                              ,                             | y1\n",
       "      |                              |                             |   \n",
       "      |                              |                             |   \n",
       "      |                              |                             |   \n",
       "      |                              |                             |   \n",
       "      |              /\"\".            | ./\"\\,              ./\"\\.    |   \n",
       "      |             /    .           | /   \",             /   \\.   |   \n",
       "      |,           ,`    \",          |/     \\.           /     \\   |   \n",
       "      |\\.         .`      l          |`      \\          .       \\  |   \n",
       "      | \\         /       \".         |       \",        .`       |. |   \n",
       "      |\"\\7\"\"\"\"\"\"\")\"\"\"\"\"\"\"\"\"\\7\"\"\"\"\"\"\")F\"\"\"\"\"\"\"\"]\"\"\"\"\"\"\"\"7\"\"\"\"\"\"\"\"\"l`|   \n",
       "      |  l      ./          l      ./|         .      ,`          .|   \n",
       "      |   .     /           \".     / |         \",     /           '|   \n",
       "      |   |.   .`            \\.   .  |          l.   /             |   \n",
       "      |    \\._,`              \\u_/`  |           \\u_/              |   \n",
       "      |                              |                             |   \n",
       "      |                              |                             |   \n",
       "      |                              |                             |   \n",
       "      |                              |                             |   \n",
       "   -2 |                              |                             |   \n",
       "      +------------------------------------------------------------+   \n",
       "      -10                                                         10\n"
      ]
     },
     "execution_count": 23,
     "metadata": {},
     "output_type": "execute_result"
    }
   ],
   "source": [
    "plot(sin, -10, 10)\n",
    "xlims!(-10, 10)"
   ]
  },
  {
   "cell_type": "code",
   "execution_count": null,
   "metadata": {},
   "outputs": [],
   "source": []
  }
 ],
 "metadata": {
  "kernelspec": {
   "display_name": "Julia 1.0.0",
   "language": "julia",
   "name": "julia-1.0"
  },
  "language_info": {
   "file_extension": ".jl",
   "mimetype": "application/julia",
   "name": "julia",
   "version": "1.0.0"
  }
 },
 "nbformat": 4,
 "nbformat_minor": 2
}
